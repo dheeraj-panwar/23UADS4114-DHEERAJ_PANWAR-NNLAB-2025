{
  "nbformat": 4,
  "nbformat_minor": 0,
  "metadata": {
    "colab": {
      "provenance": []
    },
    "kernelspec": {
      "name": "python3",
      "display_name": "Python 3"
    },
    "language_info": {
      "name": "python"
    }
  },
  "cells": [
    {
      "cell_type": "code",
      "source": [
        "import tensorflow as tf\n",
        "import numpy as np\n",
        "\n",
        "# Load MNIST dataset using Keras\n",
        "(x_train, y_train), (x_test, y_test) = tf.keras.datasets.mnist.load_data()\n",
        "\n",
        "# Reshape and normalize data\n",
        "x_train = x_train.reshape(-1, 784).astype('float32') / 255\n",
        "x_test = x_test.reshape(-1, 784).astype('float32') / 255\n",
        "\n",
        "# Convert labels to one-hot encoding\n",
        "y_train = tf.keras.utils.to_categorical(y_train, num_classes=10)\n",
        "y_test = tf.keras.utils.to_categorical(y_test, num_classes=10)\n",
        "\n",
        "# Define neural network parameters\n",
        "input_size = 784  # 28x28 pixels\n",
        "hidden_layer1_size = 128\n",
        "hidden_layer2_size = 64\n",
        "output_size = 10  # Digits 0-9\n",
        "learning_rate = 0.01\n",
        "epochs = 10\n",
        "batch_size = 100\n",
        "\n",
        "# Define input and output using tf.keras.Input\n",
        "X = tf.keras.Input(shape=(input_size,), dtype=tf.float32)\n",
        "Y = tf.keras.Input(shape=(output_size,), dtype=tf.float32)\n",
        "\n",
        "# Initialize weights and biases\n",
        "weights = {\n",
        "    'w1': tf.Variable(tf.random.normal([input_size, hidden_layer1_size])), # Changed tf.random_normal to tf.random.normal\n",
        "    'w2': tf.Variable(tf.random.normal([hidden_layer1_size, hidden_layer2_size])), # Changed tf.random_normal to tf.random.normal\n",
        "    'w_out': tf.Variable(tf.random.normal([hidden_layer2_size, output_size])) # Changed tf.random_normal to tf.random.normal\n",
        "}\n",
        "biases = {\n",
        "    'b1': tf.Variable(tf.random.normal([hidden_layer1_size])), # Changed tf.random_normal to tf.random.normal\n",
        "    'b2': tf.Variable(tf.random.normal([hidden_layer2_size])), # Changed tf.random_normal to tf.random.normal\n",
        "    'b_out': tf.Variable(tf.random.normal([output_size])) # Changed tf.random_normal to tf.random.normal\n",
        "}\n",
        "\n",
        "# Define the neural network model (feed-forward) using Keras Functional API\n",
        "def neural_network(x):\n",
        "    layer1 = tf.keras.layers.Dense(hidden_layer1_size, activation='relu')(x)\n",
        "    layer2 = tf.keras.layers.Dense(hidden_layer2_size, activation='relu')(layer1)\n",
        "    output_layer = tf.keras.layers.Dense(output_size)(layer2)\n",
        "    return output_layer\n",
        "\n",
        "# Create the model\n",
        "model = tf.keras.Model(inputs=X, outputs=neural_network(X))\n",
        "\n",
        "# Compile the model\n",
        "model.compile(optimizer=tf.keras.optimizers.Adam(learning_rate=learning_rate),\n",
        "              loss=tf.keras.losses.CategoricalCrossentropy(from_logits=True),\n",
        "              metrics=['accuracy'])\n",
        "\n",
        "# Train the neural network\n",
        "model.fit(x_train, y_train, epochs=epochs, batch_size=batch_size)\n",
        "\n",
        "# Evaluate the model on test data\n",
        "test_loss, test_acc = model.evaluate(x_test, y_test)\n",
        "print(f\"Test Accuracy: {test_acc:.4f}\")"
      ],
      "metadata": {
        "colab": {
          "base_uri": "https://localhost:8080/"
        },
        "id": "LMrBBz6a7kFU",
        "outputId": "a961523a-56ce-4df7-b50c-3027c5f81e67"
      },
      "execution_count": null,
      "outputs": [
        {
          "output_type": "stream",
          "name": "stdout",
          "text": [
            "Epoch 1/10\n",
            "\u001b[1m600/600\u001b[0m \u001b[32m━━━━━━━━━━━━━━━━━━━━\u001b[0m\u001b[37m\u001b[0m \u001b[1m4s\u001b[0m 4ms/step - accuracy: 0.8804 - loss: 0.3733\n",
            "Epoch 2/10\n",
            "\u001b[1m600/600\u001b[0m \u001b[32m━━━━━━━━━━━━━━━━━━━━\u001b[0m\u001b[37m\u001b[0m \u001b[1m2s\u001b[0m 4ms/step - accuracy: 0.9619 - loss: 0.1288\n",
            "Epoch 3/10\n",
            "\u001b[1m600/600\u001b[0m \u001b[32m━━━━━━━━━━━━━━━━━━━━\u001b[0m\u001b[37m\u001b[0m \u001b[1m4s\u001b[0m 7ms/step - accuracy: 0.9713 - loss: 0.0978\n",
            "Epoch 4/10\n",
            "\u001b[1m600/600\u001b[0m \u001b[32m━━━━━━━━━━━━━━━━━━━━\u001b[0m\u001b[37m\u001b[0m \u001b[1m5s\u001b[0m 8ms/step - accuracy: 0.9725 - loss: 0.0904\n",
            "Epoch 5/10\n",
            "\u001b[1m600/600\u001b[0m \u001b[32m━━━━━━━━━━━━━━━━━━━━\u001b[0m\u001b[37m\u001b[0m \u001b[1m3s\u001b[0m 4ms/step - accuracy: 0.9760 - loss: 0.0825\n",
            "Epoch 6/10\n",
            "\u001b[1m600/600\u001b[0m \u001b[32m━━━━━━━━━━━━━━━━━━━━\u001b[0m\u001b[37m\u001b[0m \u001b[1m5s\u001b[0m 4ms/step - accuracy: 0.9783 - loss: 0.0737\n",
            "Epoch 7/10\n",
            "\u001b[1m600/600\u001b[0m \u001b[32m━━━━━━━━━━━━━━━━━━━━\u001b[0m\u001b[37m\u001b[0m \u001b[1m4s\u001b[0m 6ms/step - accuracy: 0.9801 - loss: 0.0656\n",
            "Epoch 8/10\n",
            "\u001b[1m600/600\u001b[0m \u001b[32m━━━━━━━━━━━━━━━━━━━━\u001b[0m\u001b[37m\u001b[0m \u001b[1m4s\u001b[0m 4ms/step - accuracy: 0.9798 - loss: 0.0749\n",
            "Epoch 9/10\n",
            "\u001b[1m600/600\u001b[0m \u001b[32m━━━━━━━━━━━━━━━━━━━━\u001b[0m\u001b[37m\u001b[0m \u001b[1m3s\u001b[0m 4ms/step - accuracy: 0.9817 - loss: 0.0641\n",
            "Epoch 10/10\n",
            "\u001b[1m600/600\u001b[0m \u001b[32m━━━━━━━━━━━━━━━━━━━━\u001b[0m\u001b[37m\u001b[0m \u001b[1m3s\u001b[0m 4ms/step - accuracy: 0.9827 - loss: 0.0663\n",
            "\u001b[1m313/313\u001b[0m \u001b[32m━━━━━━━━━━━━━━━━━━━━\u001b[0m\u001b[37m\u001b[0m \u001b[1m1s\u001b[0m 2ms/step - accuracy: 0.9695 - loss: 0.1608\n",
            "Test Accuracy: 0.9724\n"
          ]
        }
      ]
    }
  ]
}